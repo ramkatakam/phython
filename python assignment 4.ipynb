{
 "cells": [
  {
   "cell_type": "markdown",
   "metadata": {},
   "source": [
    "1.1 Write a Python Program(with class concepts) to find the area of the triangle using the below\n",
    "formula.\n",
    "area = (s*(s-a)*(s-b)*(s-c)) ** 0.5\n",
    "Function to take the length of the sides of triangle from user should be defined in the parent\n",
    "class and function to calculate the area should be defined in subclass.\n",
    "\n"
   ]
  },
  {
   "cell_type": "code",
   "execution_count": 2,
   "metadata": {
    "scrolled": true
   },
   "outputs": [
    {
     "name": "stdout",
     "output_type": "stream",
     "text": [
      "sides of triangle are 3,4,5\n",
      "Area of triangle is 6.0\n"
     ]
    }
   ],
   "source": [
    "class triangle():\n",
    "    def __init__(self,a,b,c):\n",
    "        self.a=a\n",
    "        self.b=b\n",
    "        self.c=c\n",
    "       \n",
    "        \n",
    "class trinagleArea(triangle):\n",
    "     def __init__(self, a, b, c):\n",
    "            super(trinagleArea, self).__init__(a, b, c)\n",
    "     def area(self):\n",
    "        s=(self.a+self.b+self.c)/2\n",
    "        self.area = ( s*(s-self.a)*(s-self.b)*(s-self.c))**0.5\n",
    "        return self.area\n",
    "     def __str__(self):\n",
    "        return \"sides of triangle are {0},{1},{2}\".format(self.a,self.b,self.c)\n",
    "trina=trinagleArea(3,4,5)\n",
    "print(trina)\n",
    "tarea=trina.area()\n",
    "print(\"Area of triangle is {}\".format(tarea))"
   ]
  },
  {
   "cell_type": "markdown",
   "metadata": {},
   "source": [
    "1.2 Write a function filter_long_words() that takes a list of words and an integer n and returns the list of words that are longer than n"
   ]
  },
  {
   "cell_type": "code",
   "execution_count": 4,
   "metadata": {},
   "outputs": [
    {
     "name": "stdout",
     "output_type": "stream",
     "text": [
      "please enter words: 234 afa a h artw\n",
      "please enter number: 2\n",
      "words greater than number 2 are:  ['234', 'afa', 'artw']\n"
     ]
    }
   ],
   "source": [
    "words=input(\"please enter words: \")\n",
    "num=input(\"please enter number: \")\n",
    "while num.isdigit() == False:\n",
    "    print(type(num))\n",
    "    num=input(\"please enter number: \")\n",
    "\n",
    "\n",
    "def filter_long_words(nwords, n):\n",
    "    lswords=nwords.split()\n",
    "    n=int(n)\n",
    "    for i in lswords:\n",
    "        if len(i) > n:\n",
    "            yield i\n",
    "bigwords=list(filter_long_words(words, num))                \n",
    "print(\"words greater than number\",num, \"are: \", bigwords)"
   ]
  },
  {
   "cell_type": "markdown",
   "metadata": {},
   "source": [
    "2.1 Write a Python program using function concept that maps list of words into a list of integers\n",
    "representing the lengths of the corresponding words.\n",
    "Hint: If a list [ ab,cde,erty] is passed on to the python function output should come as [2,3,4]\n",
    "Here 2,3 and 4 are the lengths of the words in the list.\n"
   ]
  },
  {
   "cell_type": "code",
   "execution_count": 13,
   "metadata": {},
   "outputs": [
    {
     "name": "stdout",
     "output_type": "stream",
     "text": [
      "length of each word in list is:  [4, 4, 9, 2]\n"
     ]
    }
   ],
   "source": [
    "l=[\"asdf\",'awer',\"wetrasdfq\",\"we\"]\n",
    "#list(map(lambda x : len(x), l))\n",
    "\n",
    "\n",
    "def lenofWords(lst):\n",
    "    for i in lst:\n",
    "        yield len(i)\n",
    "print(\"length of each word in list is: \",list(lenofWords(l))) "
   ]
  },
  {
   "cell_type": "markdown",
   "metadata": {},
   "source": [
    "2.2 Write a Python function which takes a character (i.e. a string of length 1) and returns True if\n",
    "it is a vowel, False otherwise.\n"
   ]
  },
  {
   "cell_type": "code",
   "execution_count": 28,
   "metadata": {},
   "outputs": [
    {
     "name": "stdout",
     "output_type": "stream",
     "text": [
      "enter a single character: klh\n",
      "enter a single character: gkj\n",
      "enter a single character: 7\n",
      "enter a single character: m\n"
     ]
    },
    {
     "data": {
      "text/plain": [
       "'not a Vowel'"
      ]
     },
     "execution_count": 28,
     "metadata": {},
     "output_type": "execute_result"
    }
   ],
   "source": [
    "def vowelCheck(c):\n",
    "    if c.lower() in ['a','e','i','o','u']:\n",
    "        return \"Vowel\"\n",
    "    else:\n",
    "        return \"not a Vowel\"\n",
    "cha=input(\"enter a single character: \")\n",
    "while not(len(cha) ==1 and cha.isalpha()):\n",
    "    cha=input(\"enter a single character: \")\n",
    "    \n",
    "vowelCheck(cha)"
   ]
  },
  {
   "cell_type": "code",
   "execution_count": null,
   "metadata": {},
   "outputs": [],
   "source": []
  },
  {
   "cell_type": "code",
   "execution_count": null,
   "metadata": {},
   "outputs": [],
   "source": []
  },
  {
   "cell_type": "code",
   "execution_count": null,
   "metadata": {},
   "outputs": [],
   "source": []
  }
 ],
 "metadata": {
  "kernelspec": {
   "display_name": "Python 3",
   "language": "python",
   "name": "python3"
  },
  "language_info": {
   "codemirror_mode": {
    "name": "ipython",
    "version": 3
   },
   "file_extension": ".py",
   "mimetype": "text/x-python",
   "name": "python",
   "nbconvert_exporter": "python",
   "pygments_lexer": "ipython3",
   "version": "3.7.6"
  }
 },
 "nbformat": 4,
 "nbformat_minor": 4
}
