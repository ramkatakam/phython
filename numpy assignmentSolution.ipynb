{
 "cells": [
  {
   "cell_type": "raw",
   "metadata": {},
   "source": [
    "Write a function so that the columns of the output matrix are powers of the input\n",
    "vector.\n",
    "The order of the powers is determined by the increasing boolean argument. Specifically, when\n",
    "increasing is False, the i-th output column is the input vector raised element-wise to the power\n",
    "of N - i - 1.\n",
    "HINT: Such a matrix with a geometric progression in each row is named for AlexandreTheophile Vandermonde.\n",
    "\n"
   ]
  },
  {
   "cell_type": "code",
   "execution_count": 50,
   "metadata": {},
   "outputs": [
    {
     "name": "stdout",
     "output_type": "stream",
     "text": [
      "The given array is: [2, 3, 5, 7, 3]\n",
      "\n",
      "\n",
      " vandermonde matrix with Decending order with N is:3\n",
      " **************************************************\n",
      "[[ 4  2  1]\n",
      " [ 9  3  1]\n",
      " [25  5  1]\n",
      " [49  7  1]\n",
      " [ 9  3  1]]\n",
      "The given array is: [2, 3, 5, 7, 3]\n",
      "\n",
      "\n",
      " vandermonde matrix with Ascending order with N is:3 \n",
      " **************************************************\n",
      "[[ 1  2  4]\n",
      " [ 1  3  9]\n",
      " [ 1  5 25]\n",
      " [ 1  7 49]\n",
      " [ 1  3  9]]\n"
     ]
    }
   ],
   "source": [
    "import numpy as np\n",
    "a=[2,3,5,7,3]\n",
    "N=3\n",
    "\n",
    "def vandermonde(arr,N, order):\n",
    "    print(\"The given array is: {0}\".format(arr))\n",
    "    if order:\n",
    "        print(\"\\n\\n vandermonde matrix with Ascending order with N is:{0} \\n\".format(N),'*'*50)\n",
    "        opM=np.array([x**i for x in arr for i in range(N)])\n",
    "    else:\n",
    "        print(\"\\n\\n vandermonde matrix with Decending order with N is:{0}\\n\".format(N),\"*\"*50)\n",
    "        opM=np.array([x**(N-i-1) for x in arr for i in range(N)])\n",
    "    print(opM.reshape(len(a),N))\n",
    "   \n",
    "\n",
    "    \n",
    "vandermonde(a,N,False)\n",
    "vandermonde(a,N,True)\n"
   ]
  },
  {
   "cell_type": "code",
   "execution_count": null,
   "metadata": {},
   "outputs": [],
   "source": []
  },
  {
   "cell_type": "markdown",
   "metadata": {},
   "source": [
    "Problem Statement 2:\n",
    "Given a sequence of n values x1, x2, ..., xn and a window size k>0, the k-th moving average of\n",
    "the given sequence is defined as follows:\n",
    "The moving average sequence has n-k+1 elements as shown below.\n",
    "The moving averages with k=4 of a ten-value sequence (n=10) is shown below\n",
    "i 1 2 3 4 5 6 7 8 9 10\n",
    "===== == == == == == == == == == ==\n",
    "Input 10 20 30 40 50 60 70 80 90 100\n",
    "y1 25 = (10+20+30+40)/4\n",
    "y2 35 = (20+30+40+50)/4\n",
    "y3 45 = (30+40+50+60)/4\n",
    "y4 55 = (40+50+60+70)/4\n",
    "y5 65 = (50+60+70+80)/4\n",
    "y6 75 = (60+70+80+90)/4\n",
    "y7 85 = (70+80+90+100)/4\n",
    "Thus, the moving average sequence has n-k+1=10-4+1=7 values. Question: Write a function to find moving average in an array over a window: Test it over [3, 5, 7, 2, 8, 10, 11, 65, 72, 81, 99, 100, 150] and window of 3."
   ]
  },
  {
   "cell_type": "code",
   "execution_count": 32,
   "metadata": {},
   "outputs": [
    {
     "name": "stdout",
     "output_type": "stream",
     "text": [
      "Moving avg of arr= [2, 3, 5, 7, 8, 10, 11, 65, 72, 81, 99, 100, 150] \n",
      " with window k = 2 is\n",
      "1.6666666666666667\n",
      "2.6666666666666665\n",
      "4.0\n",
      "5.0\n",
      "6.0\n",
      "7.0\n",
      "25.333333333333332\n",
      "45.666666666666664\n",
      "51.0\n",
      "60.0\n",
      "66.33333333333333\n",
      "83.33333333333333\n"
     ]
    },
    {
     "data": {
      "text/plain": [
       "[2, 3, 5, 7, 8, 10, 11, 65, 72, 81, 99, 100, 150]"
      ]
     },
     "execution_count": 32,
     "metadata": {},
     "output_type": "execute_result"
    }
   ],
   "source": [
    "#given array\n",
    "from functools import reduce \n",
    "\n",
    "a=[3, 5, 7, 2, 8, 10, 11, 65, 72, 81, 99, 100, 150]\n",
    "\n",
    "def movavg(arr,k):\n",
    "    arr.sort()\n",
    "    print(\"Moving avg of arr= {0} \\n with window k = {1} is\".format(arr,k))\n",
    "    for ind, v in enumerate(arr):\n",
    "        s=0\n",
    "        if ind+k<= len(arr):\n",
    "            for r in range(k):\n",
    "                s+=arr[ind+r]\n",
    "            print(s/3)\n",
    "    \n",
    "    \n",
    "movavg(a,2)   \n",
    "a"
   ]
  },
  {
   "cell_type": "code",
   "execution_count": null,
   "metadata": {},
   "outputs": [],
   "source": []
  },
  {
   "cell_type": "code",
   "execution_count": null,
   "metadata": {},
   "outputs": [],
   "source": []
  },
  {
   "cell_type": "code",
   "execution_count": null,
   "metadata": {},
   "outputs": [],
   "source": []
  },
  {
   "cell_type": "code",
   "execution_count": null,
   "metadata": {},
   "outputs": [],
   "source": []
  },
  {
   "cell_type": "code",
   "execution_count": null,
   "metadata": {},
   "outputs": [],
   "source": []
  },
  {
   "cell_type": "code",
   "execution_count": null,
   "metadata": {},
   "outputs": [],
   "source": []
  },
  {
   "cell_type": "code",
   "execution_count": null,
   "metadata": {},
   "outputs": [],
   "source": []
  }
 ],
 "metadata": {
  "kernelspec": {
   "display_name": "Python 3",
   "language": "python",
   "name": "python3"
  },
  "language_info": {
   "codemirror_mode": {
    "name": "ipython",
    "version": 3
   },
   "file_extension": ".py",
   "mimetype": "text/x-python",
   "name": "python",
   "nbconvert_exporter": "python",
   "pygments_lexer": "ipython3",
   "version": "3.7.6"
  }
 },
 "nbformat": 4,
 "nbformat_minor": 4
}
