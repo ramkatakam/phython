{
 "cells": [
  {
   "cell_type": "markdown",
   "metadata": {},
   "source": [
    "# 1.1 Write a Python Program to implement your own myreduce() function which works exactly like Python's built-in function reduce()"
   ]
  },
  {
   "cell_type": "code",
   "execution_count": 70,
   "metadata": {},
   "outputs": [
    {
     "name": "stdout",
     "output_type": "stream",
     "text": [
      "myreduce multiplicaiton outpu: \t 320544\n",
      "reduce buitin fuction multiplicaiton outpu: \t 320544\n",
      "myreduce working for Lamda function too:\t 2.8077268643306377e-05\n"
     ]
    }
   ],
   "source": [
    "from functools import reduce   \n",
    "def sum(a,b):\n",
    "    return a+b\n",
    "sum(12,43)\n",
    "\n",
    "def mult(a,b):\n",
    "    return a*b\n",
    "\n",
    "l=[3,53,6,42,8]\n",
    "\n",
    "def myreduce(fun, ls):\n",
    "    s=0\n",
    "    for i in range(len(ls)):\n",
    "        if i==1:\n",
    "            continue\n",
    "        if i==0:\n",
    "            a=ls[i]\n",
    "            b=ls[i+1]\n",
    "        else:\n",
    "            a=s\n",
    "            b=ls[i]\n",
    "        s=fun(a,b)\n",
    "    return s    \n",
    "        \n",
    "print(\"myreduce multiplicaiton outpu: \\t\",myreduce(mult,l))\n",
    "\n",
    "print(\"reduce buitin fuction multiplicaiton outpu: \\t\",myreduce(mult,l))\n",
    "print(\"myreduce working for Lamda function too:\\t\",myreduce(lambda x,y: x/y,l))"
   ]
  },
  {
   "cell_type": "markdown",
   "metadata": {},
   "source": [
    "# 1.2 Write a Python program to implement your own myfilter() function which works exactly like Python's built-in function filter()\n"
   ]
  },
  {
   "cell_type": "code",
   "execution_count": 82,
   "metadata": {},
   "outputs": [
    {
     "name": "stdout",
     "output_type": "stream",
     "text": [
      "'myFilter' funtion output:\t [6, 42, 8]\n",
      "'myFilter' function using 'Lamda function' output:\t [6, 42, 8]\n",
      "builtin 'filter' output:\t [6, 42, 8]\n"
     ]
    }
   ],
   "source": [
    "def even_check(n):\n",
    "    if n%2==0:\n",
    "        return True\n",
    "        \n",
    "\n",
    "\n",
    "def myFilter(fun,ls):\n",
    "    result=[i   for i in ls if fun(i)==True]\n",
    "    return result\n",
    "            \n",
    "print(\"'myFilter' funtion output:\\t\",myFilter(even_check,l))\n",
    "print(\"'myFilter' function using 'Lamda function' output:\\t\",myFilter(lambda n:n%2==0,l))\n",
    "print(\"builtin 'filter' output:\\t\",list(filter(even_check,l)))\n"
   ]
  },
  {
   "cell_type": "raw",
   "metadata": {},
   "source": [
    "# 2. Implement List comprehensions to produce the following lists.\n",
    "Write List comprehensions to produce the following Lists\n",
    "['A', 'C', 'A', 'D', 'G', 'I', ’L’, ‘ D’]\n",
    "['x', 'xx', 'xxx', 'xxxx', 'y', 'yy', 'yyy', 'yyyy', 'z', 'zz', 'zzz', 'zzzz']\n",
    "['x', 'y', 'z', 'xx', 'yy', 'zz', 'xx', 'yy', 'zz', 'xxxx', 'yyyy', 'zzzz']\n",
    "[[2], [3], [4], [3], [4], [5], [4], [5], [6]]\n",
    "[[2, 3, 4, 5], [3, 4, 5, 6], [4, 5, 6, 7], [5, 6, 7, 8]]\n",
    "[(1, 1), (2, 1), (3, 1), (1, 2), (2, 2), (3, 2), (1, 3), (2, 3), (3, 3)]\n",
    "\n"
   ]
  },
  {
   "cell_type": "raw",
   "metadata": {},
   "source": [
    "Write List comprehensions to produce the following Lists\n",
    "['A', 'C', 'A', 'D', 'G', 'I', ’L’, ‘ D’]"
   ]
  },
  {
   "cell_type": "code",
   "execution_count": 83,
   "metadata": {},
   "outputs": [
    {
     "name": "stdout",
     "output_type": "stream",
     "text": [
      "['A', 'C', 'A', 'D', 'G', 'G', 'I', 'L', 'D']\n"
     ]
    }
   ],
   "source": [
    "word='ACADGGILD'\n",
    "l1=[i for i in word]\n",
    "print(l1)\n"
   ]
  },
  {
   "cell_type": "raw",
   "metadata": {},
   "source": [
    "Write List comprehensions to produce the following Lists\n",
    "['x', 'xx', 'xxx', 'xxxx', 'y', 'yy', 'yyy', 'yyyy', 'z', 'zz', 'zzz', 'zzzz']"
   ]
  },
  {
   "cell_type": "code",
   "execution_count": 85,
   "metadata": {},
   "outputs": [
    {
     "name": "stdout",
     "output_type": "stream",
     "text": [
      "['x', 'xx', 'xxx', 'xxxx', 'y', 'yy', 'yyy', 'yyyy', 'z', 'zz', 'zzz', 'zzzz']\n"
     ]
    }
   ],
   "source": [
    "word2='xyz'\n",
    "l2=[i*n for i in word2 for n in range(1,5)]\n",
    "print(l2)"
   ]
  },
  {
   "cell_type": "raw",
   "metadata": {},
   "source": [
    "Write List comprehensions to produce the following Lists\n",
    "\n",
    "['x', 'y', 'z', 'xx', 'yy', 'zz', 'xx', 'yy', 'zz', 'xxxx', 'yyyy', 'zzzz']"
   ]
  },
  {
   "cell_type": "code",
   "execution_count": 86,
   "metadata": {},
   "outputs": [
    {
     "data": {
      "text/plain": [
       "['x', 'y', 'z', 'xx', 'yy', 'zz', 'xxx', 'yyy', 'zzz', 'xxxx', 'yyyy', 'zzzz']"
      ]
     },
     "execution_count": 86,
     "metadata": {},
     "output_type": "execute_result"
    }
   ],
   "source": [
    "word='xyz'\n",
    "l3=[i*n for n in range(1,5) for i in word ]\n",
    "l3"
   ]
  },
  {
   "cell_type": "raw",
   "metadata": {},
   "source": [
    "Write List comprehensions to produce the following Lists\n",
    "\n",
    "[[2], [3], [4], [3], [4], [5], [4], [5], [6]]"
   ]
  },
  {
   "cell_type": "code",
   "execution_count": 94,
   "metadata": {},
   "outputs": [
    {
     "data": {
      "text/plain": [
       "[[2], [3], [4], [3], [4], [5], [4], [5], [6]]"
      ]
     },
     "execution_count": 94,
     "metadata": {},
     "output_type": "execute_result"
    }
   ],
   "source": [
    "l4=[[r+i] for r in range(2,5) for i in range(0,3)]\n",
    "l4"
   ]
  },
  {
   "cell_type": "raw",
   "metadata": {},
   "source": [
    "Write List comprehensions to produce the following Lists\n",
    "\n",
    "[[2, 3, 4, 5], [3, 4, 5, 6], [4, 5, 6, 7], [5, 6, 7, 8]]\n"
   ]
  },
  {
   "cell_type": "code",
   "execution_count": 88,
   "metadata": {},
   "outputs": [
    {
     "data": {
      "text/plain": [
       "[[2, 3, 4, 5], [3, 4, 5, 6], [4, 5, 6, 7], [5, 6, 7, 8]]"
      ]
     },
     "execution_count": 88,
     "metadata": {},
     "output_type": "execute_result"
    }
   ],
   "source": [
    "l5=[[i+r for r in range(1,5)] for i in range(1,5) ]\n",
    "l5"
   ]
  },
  {
   "cell_type": "raw",
   "metadata": {},
   "source": [
    "Write List comprehensions to produce the following Lists\n",
    "\n",
    "\n",
    "[(1, 1), (2, 1), (3, 1), (1, 2), (2, 2), (3, 2), (1, 3), (2, 3), (3, 3)]"
   ]
  },
  {
   "cell_type": "code",
   "execution_count": 89,
   "metadata": {},
   "outputs": [
    {
     "data": {
      "text/plain": [
       "[(1, 1), (2, 1), (3, 1), (1, 2), (2, 2), (3, 2), (1, 3), (2, 3), (3, 3)]"
      ]
     },
     "execution_count": 89,
     "metadata": {},
     "output_type": "execute_result"
    }
   ],
   "source": [
    "l6=[(i,r)for r in range(1,4) for i in range(1,4) ]\n",
    "l6"
   ]
  },
  {
   "cell_type": "raw",
   "metadata": {},
   "source": [
    "3.\n",
    "Implement a function longestWord() that takes a list of words and returns the longest one\n",
    "\n"
   ]
  },
  {
   "cell_type": "code",
   "execution_count": 96,
   "metadata": {},
   "outputs": [
    {
     "name": "stdout",
     "output_type": "stream",
     "text": [
      "takes a list of words ['ram', 'is', 'a', 'good', 'boy'] and returns the longest one--- ramisagoodboy\n"
     ]
    }
   ],
   "source": [
    "ls=['ram','is','a','good','boy']\n",
    "\n",
    "def longestWord(wordlist):\n",
    "    longword=''\n",
    "    for str in wordlist:\n",
    "        longword+=str\n",
    "    return longword\n",
    "print(\"takes a list of words\",ls, \"and returns the longest one---\",longestWord(ls))\n",
    "\n"
   ]
  },
  {
   "cell_type": "markdown",
   "metadata": {},
   "source": [
    "# Task 2:\n"
   ]
  },
  {
   "cell_type": "raw",
   "metadata": {},
   "source": [
    "1.1\n",
    "Write a Python Program(with class concepts) to find the area of the triangle using the below\n",
    "formula.\n",
    "area = (s*(s-a)*(s-b)*(s-c)) ** 0.5\n",
    "\n",
    "Function to take the length of the sides of triangle from user should be defined in the parent\n",
    "class and function to calculate the area should be defined in subclass.\n"
   ]
  },
  {
   "cell_type": "code",
   "execution_count": 93,
   "metadata": {},
   "outputs": [
    {
     "name": "stdout",
     "output_type": "stream",
     "text": [
      "enter side a value--1\n",
      "enter side b value--3\n",
      "enter side c value--5\n",
      "enter Vaue s value--4\n",
      "area of triangle is (2.1211504774498136e-16+3.4641016151377544j)\n"
     ]
    }
   ],
   "source": [
    "class Triangle:\n",
    "    def __init__(self):\n",
    "        self.a=int(input(\"enter side a value--\"))\n",
    "        \n",
    "        self.b=int(input(\"enter side b value--\"))\n",
    "        self.c=int(input(\"enter side c value--\"))\n",
    "        self.s=int(input(\"enter Vaue s value--\"))\n",
    "    def area(abc):\n",
    "        return (abc.s*(abc.s-abc.a)*(abc.s-abc.b)*(abc.s-abc.c)) ** 0.5\n",
    "    \n",
    "    \n",
    "t=Triangle()\n",
    "print(\"area of triangle is\",t.area())\n",
    "\n",
    "    "
   ]
  },
  {
   "cell_type": "raw",
   "metadata": {},
   "source": [
    "1.2\n",
    "Write a function filter_long_words() that takes a list of words and an integer n and returns the list\n",
    "of words that are longer than n."
   ]
  },
  {
   "cell_type": "code",
   "execution_count": 97,
   "metadata": {},
   "outputs": [
    {
     "data": {
      "text/plain": [
       "['fsfsf', 'wrwrqrwesadd', 'fasdfa']"
      ]
     },
     "execution_count": 97,
     "metadata": {},
     "output_type": "execute_result"
    }
   ],
   "source": [
    "ls=['raj','ramu','siva','fsfsf','wrwrqrwesadd','fasdfa','as','adfw','sda']\n",
    "n=4\n",
    "def filter_long_words(wordList,num):\n",
    "   return [i for i in wordList if len(i)>num]\n",
    "\n",
    "\n",
    "filter_long_words(ls,n)    "
   ]
  },
  {
   "cell_type": "raw",
   "metadata": {},
   "source": [
    "2.1\n",
    "Write a Python program using function concept that maps list of words into a list of integers\n",
    "representing the lengths of the corresponding words.\n",
    "Hint: If a list [ ab,cde,erty] is passed on to the python function output should come as [2,3,4]\n",
    "Here 2,3 and 4 are the lengths of the words in the list."
   ]
  },
  {
   "cell_type": "code",
   "execution_count": 100,
   "metadata": {},
   "outputs": [
    {
     "name": "stdout",
     "output_type": "stream",
     "text": [
      "length of each words in list- ['raj', 'ramu', 'siva', 'fsfsf', 'wrwrqrwesadd', 'fasdfa', 'as', 'adfw', 'sda']   are:\t [3, 4, 4, 5, 12, 6, 2, 4, 3]\n"
     ]
    }
   ],
   "source": [
    "ls=['raj','ramu','siva','fsfsf','wrwrqrwesadd','fasdfa','as','adfw','sda']\n",
    "print(\"length of each words in list-\",ls,\"  are:\\t\",list(map(lambda a:len(a), ls)))\n"
   ]
  },
  {
   "cell_type": "raw",
   "metadata": {},
   "source": [
    "2.2\n",
    "Write a Python function which takes a character (i.e. a string of length 1) and returns True if it is\n",
    "a vowel, False otherwise.\n"
   ]
  },
  {
   "cell_type": "code",
   "execution_count": 26,
   "metadata": {},
   "outputs": [
    {
     "name": "stdout",
     "output_type": "stream",
     "text": [
      "enter single character--sd\n",
      "enter single character--34\n",
      "enter single character--3\n",
      "enter single character--s\n"
     ]
    },
    {
     "data": {
      "text/plain": [
       "[False]"
      ]
     },
     "execution_count": 26,
     "metadata": {},
     "output_type": "execute_result"
    }
   ],
   "source": [
    "def vowelCheck():\n",
    "    ls= ['a','e','i','o','u']\n",
    "    vow='qa'\n",
    "    while not vow.isalpha() or len(vow)>1:\n",
    "        \n",
    "        vow=input('enter single character--')\n",
    "    vow=vow.lower()\n",
    "    return [True if vow in ls else False]\n",
    "    #return [True if vow==i else False for i in ls ]\n",
    "\n",
    "vowelCheck()\n"
   ]
  }
 ],
 "metadata": {
  "kernelspec": {
   "display_name": "Python 3",
   "language": "python",
   "name": "python3"
  },
  "language_info": {
   "codemirror_mode": {
    "name": "ipython",
    "version": 3
   },
   "file_extension": ".py",
   "mimetype": "text/x-python",
   "name": "python",
   "nbconvert_exporter": "python",
   "pygments_lexer": "ipython3",
   "version": "3.7.6"
  }
 },
 "nbformat": 4,
 "nbformat_minor": 4
}
